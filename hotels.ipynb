{
 "cells": [
  {
   "cell_type": "code",
   "execution_count": null,
   "id": "0be7d0de",
   "metadata": {},
   "outputs": [],
   "source": [
    "import pandas as pd\n",
    "import numpy as np\n",
    "import seaborn as sns\n",
    "import matplotlib.pyplot as plt\n",
    "import warnings\n",
    "from warnings import filterwarnings\n",
    "filterwarnings('ignore')\n"
   ]
  },
  {
   "cell_type": "code",
   "execution_count": null,
   "id": "e767cbcb",
   "metadata": {},
   "outputs": [],
   "source": [
    "df = pd.read_csv('C:\\\\Users\\\\dell\\\\Downloads\\\\hotel_bookings (1).csv')\n",
    "df.head(10)"
   ]
  },
  {
   "cell_type": "code",
   "execution_count": null,
   "id": "10f538dd",
   "metadata": {},
   "outputs": [],
   "source": [
    "\n",
    "def clean_dataset(df):\n",
    "    assert isinstance(df, pd.DataFrame), \"df needs to be a pd.DataFrame\"\n",
    "    df.dropna(inplace=True)\n",
    "    indices_to_keep = ~df.isin([np.nan, np.inf, -np.inf]).any(1)\n",
    "    return df[indices_to_keep].astype(np.float64)"
   ]
  },
  {
   "cell_type": "code",
   "execution_count": null,
   "id": "c1f5a45c",
   "metadata": {},
   "outputs": [],
   "source": [
    "df.shape"
   ]
  },
  {
   "cell_type": "code",
   "execution_count": null,
   "id": "9f05acb5",
   "metadata": {},
   "outputs": [],
   "source": [
    "df.isna().sum()"
   ]
  },
  {
   "cell_type": "code",
   "execution_count": null,
   "id": "a6269634",
   "metadata": {},
   "outputs": [],
   "source": [
    "df.drop(['agent','company'],axis=1,inplace=True)"
   ]
  },
  {
   "cell_type": "code",
   "execution_count": null,
   "id": "0f52f674",
   "metadata": {},
   "outputs": [],
   "source": [
    "df.isna().sum()"
   ]
  },
  {
   "cell_type": "code",
   "execution_count": null,
   "id": "b58dd3a3",
   "metadata": {},
   "outputs": [],
   "source": [
    "df['country'].value_counts().index[0]"
   ]
  },
  {
   "cell_type": "code",
   "execution_count": null,
   "id": "caaf2ff9",
   "metadata": {},
   "outputs": [],
   "source": [
    "df['country'].fillna(df['country'].value_counts().index[0],inplace=True)\n",
    "df.fillna(0,inplace =True)"
   ]
  },
  {
   "cell_type": "code",
   "execution_count": null,
   "id": "cdd1f200",
   "metadata": {},
   "outputs": [],
   "source": [
    "df.isnull().sum()"
   ]
  },
  {
   "cell_type": "code",
   "execution_count": null,
   "id": "056b6169",
   "metadata": {},
   "outputs": [],
   "source": [
    "filter1  = (df['children']==0) &(df['adults']==0) &(df['babies']==0)\n",
    "df[filter1]"
   ]
  },
  {
   "cell_type": "code",
   "execution_count": null,
   "id": "949b2f55",
   "metadata": {},
   "outputs": [],
   "source": [
    "data = df[~filter1]\n",
    "data"
   ]
  },
  {
   "cell_type": "code",
   "execution_count": null,
   "id": "50b4ee59",
   "metadata": {},
   "outputs": [],
   "source": [
    "data.shape"
   ]
  },
  {
   "cell_type": "code",
   "execution_count": null,
   "id": "22f33fa5",
   "metadata": {},
   "outputs": [],
   "source": [
    "data['is_canceled'].unique()"
   ]
  },
  {
   "cell_type": "code",
   "execution_count": null,
   "id": "ce4d7bf8",
   "metadata": {},
   "outputs": [],
   "source": [
    "data[data['is_canceled']==0]['country'].value_counts()"
   ]
  },
  {
   "cell_type": "code",
   "execution_count": null,
   "id": "ccca63d5",
   "metadata": {},
   "outputs": [],
   "source": [
    "data[data['is_canceled']==0]['country'].value_counts().reset_index()"
   ]
  },
  {
   "cell_type": "code",
   "execution_count": null,
   "id": "bf78107d",
   "metadata": {},
   "outputs": [],
   "source": [
    "country_wise_data=data[data['is_canceled']==0]['country'].value_counts().reset_index()\n",
    "country_wise_data.columns = ['country','no of guests']\n",
    "country_wise_data"
   ]
  },
  {
   "cell_type": "code",
   "execution_count": null,
   "id": "60cbd2f2",
   "metadata": {},
   "outputs": [],
   "source": [
    "!pip install plotly"
   ]
  },
  {
   "cell_type": "code",
   "execution_count": null,
   "id": "6d42d07b",
   "metadata": {},
   "outputs": [],
   "source": [
    "!pip install chart_studio"
   ]
  },
  {
   "cell_type": "code",
   "execution_count": null,
   "id": "6228e902",
   "metadata": {},
   "outputs": [],
   "source": [
    "import plotly\n",
    "import chart_studio.plotly as py\n",
    "from plotly.offline import download_plotlyjs, init_notebook_mode,plot,iplot\n",
    "init_notebook_mode(connected=True)"
   ]
  },
  {
   "cell_type": "code",
   "execution_count": null,
   "id": "3c195890",
   "metadata": {},
   "outputs": [],
   "source": [
    "import plotly.express as px\n"
   ]
  },
  {
   "cell_type": "code",
   "execution_count": null,
   "id": "a1c421b1",
   "metadata": {},
   "outputs": [],
   "source": [
    "map_guest = px.choropleth(country_wise_data,\n",
    "                         locations=country_wise_data['country'],\n",
    "                         color=country_wise_data['no of guests'],\n",
    "                         hover_name=country_wise_data['country'],\n",
    "                         title=\"home country of guests\")"
   ]
  },
  {
   "cell_type": "code",
   "execution_count": null,
   "id": "e6397e53",
   "metadata": {},
   "outputs": [],
   "source": [
    "map_guest.show()"
   ]
  },
  {
   "cell_type": "code",
   "execution_count": null,
   "id": "f0efc2f5",
   "metadata": {},
   "outputs": [],
   "source": [
    "data2 = data[data['is_canceled']==0]"
   ]
  },
  {
   "cell_type": "code",
   "execution_count": null,
   "id": "3b90c05f",
   "metadata": {},
   "outputs": [],
   "source": [
    "data2.columns"
   ]
  },
  {
   "cell_type": "markdown",
   "id": "40a5311c",
   "metadata": {},
   "source": [
    "# Price per room type per night and person"
   ]
  },
  {
   "cell_type": "code",
   "execution_count": null,
   "id": "3e715cf1",
   "metadata": {},
   "outputs": [],
   "source": [
    "plt.figure(figsize=(12,8))\n",
    "sns.boxplot(x='reserved_room_type',y='adr',hue='hotel',data=data2)\n",
    "plt.title(\"Price of room type per night and person\")\n",
    "plt.xlabel('price')\n",
    "plt.ylabel('room type')"
   ]
  },
  {
   "cell_type": "code",
   "execution_count": null,
   "id": "d64fbc81",
   "metadata": {},
   "outputs": [],
   "source": [
    "data[\"reserved_room_type\"].unique()"
   ]
  },
  {
   "cell_type": "markdown",
   "id": "4d789c6b",
   "metadata": {},
   "source": [
    "# Analysing demand of hotel"
   ]
  },
  {
   "cell_type": "code",
   "execution_count": null,
   "id": "4a3f6279",
   "metadata": {},
   "outputs": [],
   "source": [
    "data['hotel'].unique()"
   ]
  },
  {
   "cell_type": "code",
   "execution_count": null,
   "id": "5424fd4c",
   "metadata": {},
   "outputs": [],
   "source": [
    "data_resort = data[(data['hotel']=='Resort Hotel') & (data['is_canceled']==0)]\n",
    "data_city = data[(data['hotel']=='City Hotel') & (data['is_canceled']==0)]"
   ]
  },
  {
   "cell_type": "code",
   "execution_count": null,
   "id": "9a365180",
   "metadata": {},
   "outputs": [],
   "source": [
    "data_resort.head()"
   ]
  },
  {
   "cell_type": "code",
   "execution_count": null,
   "id": "88a59787",
   "metadata": {},
   "outputs": [],
   "source": [
    "rush_resort = data_resort['arrival_date_month'].value_counts().reset_index()\n",
    "rush_resort.columns=['Month','No of guests']\n",
    "rush_resort"
   ]
  },
  {
   "cell_type": "code",
   "execution_count": null,
   "id": "a7864ecc",
   "metadata": {},
   "outputs": [],
   "source": [
    "rush_city = data_city['arrival_date_month'].value_counts().reset_index()\n",
    "rush_city.columns=['Month','No of guests']\n",
    "\n",
    "rush_city"
   ]
  },
  {
   "cell_type": "code",
   "execution_count": null,
   "id": "e29130c7",
   "metadata": {},
   "outputs": [],
   "source": [
    "!pip install sorted_months_weekdays\n",
    "!pip install sort_dataframeby_monthorweek"
   ]
  },
  {
   "cell_type": "code",
   "execution_count": null,
   "id": "5684bec2",
   "metadata": {},
   "outputs": [],
   "source": []
  },
  {
   "cell_type": "code",
   "execution_count": null,
   "id": "e0047372",
   "metadata": {},
   "outputs": [],
   "source": []
  },
  {
   "cell_type": "code",
   "execution_count": null,
   "id": "704f3ac7",
   "metadata": {},
   "outputs": [],
   "source": [
    "final_rush = rush_resort.merge(rush_city,on='Month')\n"
   ]
  },
  {
   "cell_type": "code",
   "execution_count": null,
   "id": "b8f8be0e",
   "metadata": {},
   "outputs": [],
   "source": [
    "final_rush.columns=['Month','No_of_guests_in_resort','No_of_guests_in_city']\n",
    "final_rush"
   ]
  },
  {
   "cell_type": "code",
   "execution_count": null,
   "id": "1d543406",
   "metadata": {},
   "outputs": [],
   "source": [
    "import sort_dataframeby_monthorweek as sd"
   ]
  },
  {
   "cell_type": "code",
   "execution_count": null,
   "id": "1c6e86c4",
   "metadata": {},
   "outputs": [],
   "source": [
    "final_rush=sd.Sort_Dataframeby_Month(final_rush,'Month')"
   ]
  },
  {
   "cell_type": "code",
   "execution_count": null,
   "id": "48d686d1",
   "metadata": {},
   "outputs": [],
   "source": [
    "px.line(data_frame=final_rush,x='Month',y=['No_of_guests_in_resort','No_of_guests_in_city'])"
   ]
  },
  {
   "cell_type": "markdown",
   "id": "c86e4603",
   "metadata": {},
   "source": [
    "# Which month has highest average daily rate?"
   ]
  },
  {
   "cell_type": "code",
   "execution_count": null,
   "id": "e461181e",
   "metadata": {},
   "outputs": [],
   "source": [
    "sd.Sort_Dataframeby_Month(data,'arrival_date_month')"
   ]
  },
  {
   "cell_type": "code",
   "execution_count": null,
   "id": "400ca743",
   "metadata": {},
   "outputs": [],
   "source": [
    "\n",
    "sns.barplot(x='arrival_date_month',y='adr',data=data,hue='is_canceled')\n",
    "plt.title(\"Month vs average daily rate\")\n",
    "plt.xticks(rotation='vertical')\n"
   ]
  },
  {
   "cell_type": "code",
   "execution_count": null,
   "id": "f33fab30",
   "metadata": {},
   "outputs": [],
   "source": [
    "plt.figure(figsize=(12,8))\n",
    "sns.boxplot(x='arrival_date_month',y='adr',data=data,hue='is_canceled')\n",
    "plt.title(\"Mionth vs average daily rate\")\n",
    "plt.xticks(rotation='vertical')\n",
    "plt.ylim(0,800)\n",
    "plt.show()"
   ]
  },
  {
   "cell_type": "markdown",
   "id": "6cb3795d",
   "metadata": {},
   "source": [
    "# whether bookings are don eonly for weekdays or for weekends or for both"
   ]
  },
  {
   "cell_type": "code",
   "execution_count": null,
   "id": "c70a8999",
   "metadata": {},
   "outputs": [],
   "source": [
    "data.columns"
   ]
  },
  {
   "cell_type": "code",
   "execution_count": null,
   "id": "1bb7f12a",
   "metadata": {},
   "outputs": [],
   "source": [
    "pd.crosstab(index=data['stays_in_weekend_nights'],columns=data['stays_in_week_nights'])"
   ]
  },
  {
   "cell_type": "code",
   "execution_count": null,
   "id": "c3b50f87",
   "metadata": {},
   "outputs": [],
   "source": [
    "def week_function(row):\n",
    "    feature1='stays_in_weekend_nights'\n",
    "    feature2='stays_in_week_nights'\n",
    "    \n",
    "    if row[feature1]==0 and row[feature2]>0:\n",
    "        return 'stay_just_weekend'\n",
    "    elif row[feature1]>0 and row[feature2]==0:\n",
    "        return 'stay_just_weekdays'\n",
    "    \n",
    "    elif row[feature1]>0 and row[feature2]>0:\n",
    "        return 'stay_both_weekdays_weekdays'\n",
    "    else:\n",
    "        return'undefined data'"
   ]
  },
  {
   "cell_type": "code",
   "execution_count": null,
   "id": "38057258",
   "metadata": {},
   "outputs": [],
   "source": [
    "data2['weekend_or_weekdays']=data2.apply(func=week_function,axis=1) "
   ]
  },
  {
   "cell_type": "code",
   "execution_count": null,
   "id": "2e4bfaae",
   "metadata": {},
   "outputs": [],
   "source": [
    "data2.head(2)"
   ]
  },
  {
   "cell_type": "code",
   "execution_count": null,
   "id": "b738adfd",
   "metadata": {},
   "outputs": [],
   "source": [
    "data2['weekend_or_weekdays'].value_counts()"
   ]
  },
  {
   "cell_type": "code",
   "execution_count": null,
   "id": "19d30297",
   "metadata": {},
   "outputs": [],
   "source": [
    "data2=sd.Sort_Dataframeby_Month(data2,'arrival_date_month')"
   ]
  },
  {
   "cell_type": "code",
   "execution_count": null,
   "id": "952d6e42",
   "metadata": {},
   "outputs": [],
   "source": [
    "data2.groupby(['arrival_date_month','weekend_or_weekdays']).size()"
   ]
  },
  {
   "cell_type": "code",
   "execution_count": null,
   "id": "9707c0e6",
   "metadata": {},
   "outputs": [],
   "source": [
    "group_data=data2.groupby(['arrival_date_month','weekend_or_weekdays']).size().unstack().reset_index()"
   ]
  },
  {
   "cell_type": "code",
   "execution_count": null,
   "id": "236087b8",
   "metadata": {},
   "outputs": [],
   "source": [
    "sorted_data=sd.Sort_Dataframeby_Month(group_data,'arrival_date_month')"
   ]
  },
  {
   "cell_type": "code",
   "execution_count": null,
   "id": "54580f91",
   "metadata": {},
   "outputs": [],
   "source": []
  },
  {
   "cell_type": "code",
   "execution_count": null,
   "id": "8cc5d761",
   "metadata": {},
   "outputs": [],
   "source": [
    "sorted_data.set_index('arrival_date_month',inplace=True)"
   ]
  },
  {
   "cell_type": "code",
   "execution_count": null,
   "id": "a9bca95a",
   "metadata": {},
   "outputs": [],
   "source": [
    "sorted_data"
   ]
  },
  {
   "cell_type": "code",
   "execution_count": null,
   "id": "38897e27",
   "metadata": {},
   "outputs": [],
   "source": [
    "sorted_data.plot(kind='bar',stacked=True,figsize=(15,10))"
   ]
  },
  {
   "cell_type": "code",
   "execution_count": null,
   "id": "2beaa9a9",
   "metadata": {},
   "outputs": [],
   "source": [
    "def family(row):\n",
    "    if (row['adults']>0) & (row['children']>0 or row['babies']>0):\n",
    "        return 1\n",
    "    else:\n",
    "        return 0"
   ]
  },
  {
   "cell_type": "code",
   "execution_count": null,
   "id": "e3a023de",
   "metadata": {},
   "outputs": [],
   "source": [
    "data['is_family']=data.apply(family,axis=1)"
   ]
  },
  {
   "cell_type": "code",
   "execution_count": null,
   "id": "01b8b153",
   "metadata": {},
   "outputs": [],
   "source": [
    "data['total_customer'] = data['adults'] + data['babies'] + data['children']"
   ]
  },
  {
   "cell_type": "code",
   "execution_count": null,
   "id": "d2ef1f37",
   "metadata": {},
   "outputs": [],
   "source": [
    "data['total_nights'] = data['stays_in_week_nights'] + data['stays_in_weekend_nights']"
   ]
  },
  {
   "cell_type": "code",
   "execution_count": null,
   "id": "d5bde4f1",
   "metadata": {},
   "outputs": [],
   "source": [
    "data.columns"
   ]
  },
  {
   "cell_type": "code",
   "execution_count": null,
   "id": "8785014d",
   "metadata": {},
   "outputs": [],
   "source": [
    "data['deposit_type'].unique()"
   ]
  },
  {
   "cell_type": "code",
   "execution_count": null,
   "id": "97326f70",
   "metadata": {},
   "outputs": [],
   "source": [
    "dict1 = {'No Deposit':0,'Non Refund':1,'Refundable':0}"
   ]
  },
  {
   "cell_type": "code",
   "execution_count": null,
   "id": "633ff1f0",
   "metadata": {},
   "outputs": [],
   "source": [
    "data['deposit_type'].map(dict1)"
   ]
  },
  {
   "cell_type": "code",
   "execution_count": null,
   "id": "d8b60a2f",
   "metadata": {},
   "outputs": [],
   "source": [
    "data.drop(columns=['adults', 'children', 'babies','deposit_type'],axis=1,inplace=True)"
   ]
  },
  {
   "cell_type": "code",
   "execution_count": null,
   "id": "c026f25f",
   "metadata": {},
   "outputs": [],
   "source": [
    "data.columns"
   ]
  },
  {
   "cell_type": "code",
   "execution_count": null,
   "id": "0934fdf9",
   "metadata": {},
   "outputs": [],
   "source": [
    "data[data['is_family']==1]"
   ]
  },
  {
   "cell_type": "code",
   "execution_count": null,
   "id": "9b8b46cc",
   "metadata": {},
   "outputs": [],
   "source": [
    "data.dtypes"
   ]
  },
  {
   "cell_type": "markdown",
   "id": "8389fefc",
   "metadata": {},
   "source": [
    "Feature encoding"
   ]
  },
  {
   "cell_type": "code",
   "execution_count": null,
   "id": "c87afbf2",
   "metadata": {},
   "outputs": [],
   "source": [
    "cat_features=[col for col in data.columns if data[col].dtype=='object']\n",
    "num_features = [col for col in data.columns if data[col].dtype!='object']"
   ]
  },
  {
   "cell_type": "code",
   "execution_count": null,
   "id": "25dd2cda",
   "metadata": {},
   "outputs": [],
   "source": [
    "cat_features"
   ]
  },
  {
   "cell_type": "code",
   "execution_count": null,
   "id": "74a42f59",
   "metadata": {},
   "outputs": [],
   "source": [
    "num_features"
   ]
  },
  {
   "cell_type": "code",
   "execution_count": null,
   "id": "8c00e9eb",
   "metadata": {},
   "outputs": [],
   "source": [
    "data_cat=data[cat_features]\n"
   ]
  },
  {
   "cell_type": "code",
   "execution_count": null,
   "id": "6bf24813",
   "metadata": {},
   "outputs": [],
   "source": [
    "data_num=data[num_features]"
   ]
  },
  {
   "cell_type": "code",
   "execution_count": null,
   "id": "53dd3db4",
   "metadata": {},
   "outputs": [],
   "source": [
    "data.groupby(['hotel'])['is_canceled'].mean().to_dict()"
   ]
  },
  {
   "cell_type": "code",
   "execution_count": null,
   "id": "e8fb56a6",
   "metadata": {},
   "outputs": [],
   "source": []
  },
  {
   "cell_type": "code",
   "execution_count": null,
   "id": "74fa987d",
   "metadata": {},
   "outputs": [],
   "source": [
    "data_cat['cancellation']=data['is_canceled']"
   ]
  },
  {
   "cell_type": "code",
   "execution_count": null,
   "id": "6c735bab",
   "metadata": {},
   "outputs": [],
   "source": [
    "data_cat.head()"
   ]
  },
  {
   "cell_type": "code",
   "execution_count": null,
   "id": "62231cb1",
   "metadata": {},
   "outputs": [],
   "source": [
    "data.dtypes"
   ]
  },
  {
   "cell_type": "code",
   "execution_count": null,
   "id": "f263bf18",
   "metadata": {},
   "outputs": [],
   "source": [
    "cols = data_cat.columns"
   ]
  },
  {
   "cell_type": "code",
   "execution_count": null,
   "id": "f2e42c12",
   "metadata": {},
   "outputs": [],
   "source": [
    "cols = cols[0:-1]"
   ]
  },
  {
   "cell_type": "code",
   "execution_count": null,
   "id": "a96355a9",
   "metadata": {},
   "outputs": [],
   "source": [
    "cols\n"
   ]
  },
  {
   "cell_type": "code",
   "execution_count": null,
   "id": "fde0f748",
   "metadata": {},
   "outputs": [],
   "source": [
    "for col in cols:\n",
    "    dict2=data_cat.groupby([col])['cancellation'].mean().to_dict()\n",
    "    data_cat[col]=data_cat[col].map(dict2)"
   ]
  },
  {
   "cell_type": "code",
   "execution_count": null,
   "id": "c78c436e",
   "metadata": {},
   "outputs": [],
   "source": [
    "data_cat.head()"
   ]
  },
  {
   "cell_type": "markdown",
   "id": "55d747c9",
   "metadata": {},
   "source": [
    "Handling outliers"
   ]
  },
  {
   "cell_type": "code",
   "execution_count": null,
   "id": "aeee9dee",
   "metadata": {},
   "outputs": [],
   "source": [
    "dataframe=pd.concat([data_cat,data[num_features]],axis=1)"
   ]
  },
  {
   "cell_type": "code",
   "execution_count": null,
   "id": "f0584cd9",
   "metadata": {},
   "outputs": [],
   "source": [
    "dataframe.columns"
   ]
  },
  {
   "cell_type": "code",
   "execution_count": null,
   "id": "d29e0246",
   "metadata": {},
   "outputs": [],
   "source": [
    "dataframe.drop(['cancellation'],axis=1,inplace=True)"
   ]
  },
  {
   "cell_type": "code",
   "execution_count": null,
   "id": "bc81d42c",
   "metadata": {},
   "outputs": [],
   "source": [
    "dataframe.head(3)"
   ]
  },
  {
   "cell_type": "markdown",
   "id": "762c3485",
   "metadata": {},
   "source": [
    "Handling outliers"
   ]
  },
  {
   "cell_type": "code",
   "execution_count": null,
   "id": "11d75e51",
   "metadata": {},
   "outputs": [],
   "source": [
    "sns.distplot(dataframe['lead_time'])"
   ]
  },
  {
   "cell_type": "code",
   "execution_count": null,
   "id": "cf627046",
   "metadata": {},
   "outputs": [],
   "source": [
    "def hanle_outlier(col):\n",
    "    dataframe[col] = np.log1p(dataframe[col])"
   ]
  },
  {
   "cell_type": "code",
   "execution_count": null,
   "id": "7c8e36da",
   "metadata": {},
   "outputs": [],
   "source": [
    "hanle_outlier('lead_time')"
   ]
  },
  {
   "cell_type": "code",
   "execution_count": null,
   "id": "c75414b8",
   "metadata": {},
   "outputs": [],
   "source": [
    "sns.distplot(dataframe['lead_time'])"
   ]
  },
  {
   "cell_type": "code",
   "execution_count": null,
   "id": "35b90f5c",
   "metadata": {},
   "outputs": [],
   "source": [
    "dataframe[dataframe['adr']<0]"
   ]
  },
  {
   "cell_type": "code",
   "execution_count": null,
   "id": "67f8e3b0",
   "metadata": {},
   "outputs": [],
   "source": [
    "hanle_outlier('adr')"
   ]
  },
  {
   "cell_type": "code",
   "execution_count": null,
   "id": "72a79fe2",
   "metadata": {},
   "outputs": [],
   "source": [
    "dataframe['adr'].isnull().sum()"
   ]
  },
  {
   "cell_type": "code",
   "execution_count": null,
   "id": "ef3c311c",
   "metadata": {},
   "outputs": [],
   "source": [
    "sns.displot(dataframe['adr'].dropna(),kde=True)"
   ]
  },
  {
   "cell_type": "markdown",
   "id": "93025e84",
   "metadata": {},
   "source": [
    "coorelation"
   ]
  },
  {
   "cell_type": "code",
   "execution_count": null,
   "id": "521c940a",
   "metadata": {},
   "outputs": [],
   "source": [
    "sns.FacetGrid(data,hue='is_canceled').map(sns.kdeplot,'lead_time',shade=True).add_legend()\n"
   ]
  },
  {
   "cell_type": "markdown",
   "id": "ab486c34",
   "metadata": {},
   "source": [
    "How to select imp features using coorelation?"
   ]
  },
  {
   "cell_type": "code",
   "execution_count": null,
   "id": "d37dbef1",
   "metadata": {},
   "outputs": [],
   "source": [
    "corr=dataframe.corr()"
   ]
  },
  {
   "cell_type": "code",
   "execution_count": null,
   "id": "705af980",
   "metadata": {},
   "outputs": [],
   "source": [
    "corr['is_canceled'].sort_values(ascending=False)"
   ]
  },
  {
   "cell_type": "code",
   "execution_count": null,
   "id": "6dba54ac",
   "metadata": {},
   "outputs": [],
   "source": [
    "corr['is_canceled'].sort_values(ascending=False).index"
   ]
  },
  {
   "cell_type": "code",
   "execution_count": null,
   "id": "c734f741",
   "metadata": {},
   "outputs": [],
   "source": [
    "features_to_drop = ['reservation_status', 'reservation_status_date','arrival_date_year',\n",
    "       'arrival_date_week_number', 'stays_in_weekend_nights',\n",
    "       'arrival_date_day_of_month']"
   ]
  },
  {
   "cell_type": "code",
   "execution_count": null,
   "id": "abe99536",
   "metadata": {},
   "outputs": [],
   "source": []
  },
  {
   "cell_type": "code",
   "execution_count": null,
   "id": "78f00301",
   "metadata": {},
   "outputs": [],
   "source": [
    "dataframe.drop(features_to_drop,axis= 1,inplace=True)"
   ]
  },
  {
   "cell_type": "code",
   "execution_count": null,
   "id": "e32303cb",
   "metadata": {},
   "outputs": [],
   "source": [
    "dataframe.shape"
   ]
  },
  {
   "cell_type": "markdown",
   "id": "0185c9ba",
   "metadata": {},
   "source": [
    "Feature selection"
   ]
  },
  {
   "cell_type": "code",
   "execution_count": null,
   "id": "abc259a2",
   "metadata": {},
   "outputs": [],
   "source": [
    "dataframe.head(2)\n"
   ]
  },
  {
   "cell_type": "code",
   "execution_count": null,
   "id": "ac3e9c8c",
   "metadata": {},
   "outputs": [],
   "source": [
    "dataframe.isnull().sum()"
   ]
  },
  {
   "cell_type": "code",
   "execution_count": null,
   "id": "f24540ee",
   "metadata": {},
   "outputs": [],
   "source": [
    "dataframe.dropna(inplace=True)"
   ]
  },
  {
   "cell_type": "code",
   "execution_count": null,
   "id": "6899bfc4",
   "metadata": {},
   "outputs": [],
   "source": [
    "dataframe.isnull().sum()"
   ]
  },
  {
   "cell_type": "code",
   "execution_count": null,
   "id": "296c484a",
   "metadata": {},
   "outputs": [],
   "source": [
    "x=dataframe.drop('is_canceled',axis =1)"
   ]
  },
  {
   "cell_type": "code",
   "execution_count": null,
   "id": "a35d8b3a",
   "metadata": {},
   "outputs": [],
   "source": [
    "x"
   ]
  },
  {
   "cell_type": "code",
   "execution_count": null,
   "id": "241b69ad",
   "metadata": {},
   "outputs": [],
   "source": [
    "y = dataframe['is_canceled']"
   ]
  },
  {
   "cell_type": "code",
   "execution_count": null,
   "id": "5df67d40",
   "metadata": {},
   "outputs": [],
   "source": [
    "df['is_canceled'].isnull().values.any()"
   ]
  },
  {
   "cell_type": "code",
   "execution_count": null,
   "id": "92d2db66",
   "metadata": {},
   "outputs": [],
   "source": [
    "from sklearn.linear_model import Lasso\n",
    "from sklearn.feature_selection import SelectFromModel\n"
   ]
  },
  {
   "cell_type": "code",
   "execution_count": null,
   "id": "50d04b7f",
   "metadata": {},
   "outputs": [],
   "source": [
    "Lasso(alpha=0.005) #the bigger the model values the lesser the feature will select"
   ]
  },
  {
   "cell_type": "code",
   "execution_count": null,
   "id": "6f51457b",
   "metadata": {},
   "outputs": [],
   "source": [
    "feature_sel_model=SelectFromModel(Lasso(alpha=0.005))"
   ]
  },
  {
   "cell_type": "code",
   "execution_count": null,
   "id": "ff14e58d",
   "metadata": {},
   "outputs": [],
   "source": [
    "feature_sel_model.fit(x,y)"
   ]
  },
  {
   "cell_type": "code",
   "execution_count": null,
   "id": "6ca061b7",
   "metadata": {},
   "outputs": [],
   "source": [
    "feature_sel_model.get_support()#when its false means its feature doesn't get selected"
   ]
  },
  {
   "cell_type": "code",
   "execution_count": null,
   "id": "0569f96e",
   "metadata": {},
   "outputs": [],
   "source": [
    "cols = x.columns"
   ]
  },
  {
   "cell_type": "code",
   "execution_count": null,
   "id": "8de61a00",
   "metadata": {},
   "outputs": [],
   "source": [
    "selected_feature=cols[feature_sel_model.get_support()]"
   ]
  },
  {
   "cell_type": "code",
   "execution_count": null,
   "id": "e19aeb1a",
   "metadata": {},
   "outputs": [],
   "source": [
    "selected_feature\n"
   ]
  },
  {
   "cell_type": "code",
   "execution_count": null,
   "id": "a180a070",
   "metadata": {
    "scrolled": true
   },
   "outputs": [],
   "source": [
    "x=x[selected_feature]"
   ]
  },
  {
   "cell_type": "code",
   "execution_count": null,
   "id": "04f5043f",
   "metadata": {},
   "outputs": [],
   "source": [
    "y"
   ]
  },
  {
   "cell_type": "code",
   "execution_count": null,
   "id": "fe7e5395",
   "metadata": {},
   "outputs": [],
   "source": []
  },
  {
   "cell_type": "code",
   "execution_count": null,
   "id": "79707504",
   "metadata": {},
   "outputs": [],
   "source": [
    "from sklearn.model_selection import train_test_split"
   ]
  },
  {
   "cell_type": "code",
   "execution_count": null,
   "id": "a2b259dc",
   "metadata": {},
   "outputs": [],
   "source": [
    "X_train,X_test,y_train,y_test = train_test_split(x,y,test_size=0.25)"
   ]
  },
  {
   "cell_type": "code",
   "execution_count": null,
   "id": "c8459104",
   "metadata": {},
   "outputs": [],
   "source": [
    "X_train.shape"
   ]
  },
  {
   "cell_type": "code",
   "execution_count": null,
   "id": "23f17a9d",
   "metadata": {},
   "outputs": [],
   "source": [
    "from sklearn.linear_model import LogisticRegression"
   ]
  },
  {
   "cell_type": "code",
   "execution_count": null,
   "id": "f8de67e3",
   "metadata": {},
   "outputs": [],
   "source": [
    "logreg=LogisticRegression()"
   ]
  },
  {
   "cell_type": "code",
   "execution_count": null,
   "id": "06fcbd8d",
   "metadata": {},
   "outputs": [],
   "source": [
    "logreg.fit(X_train,y_train)"
   ]
  },
  {
   "cell_type": "code",
   "execution_count": null,
   "id": "eb96661e",
   "metadata": {},
   "outputs": [],
   "source": [
    "pred=logreg.predict(X_test)"
   ]
  },
  {
   "cell_type": "code",
   "execution_count": null,
   "id": "97debca2",
   "metadata": {},
   "outputs": [],
   "source": [
    "pred"
   ]
  },
  {
   "cell_type": "code",
   "execution_count": null,
   "id": "591749f7",
   "metadata": {},
   "outputs": [],
   "source": [
    "from sklearn.metrics import confusion_matrix"
   ]
  },
  {
   "cell_type": "code",
   "execution_count": null,
   "id": "34de5f2b",
   "metadata": {},
   "outputs": [],
   "source": [
    "confusion_matrix(y_test,pred)"
   ]
  },
  {
   "cell_type": "code",
   "execution_count": null,
   "id": "00637c1b",
   "metadata": {},
   "outputs": [],
   "source": [
    "from sklearn.metrics import accuracy_score"
   ]
  },
  {
   "cell_type": "code",
   "execution_count": null,
   "id": "f262423b",
   "metadata": {},
   "outputs": [],
   "source": [
    "accuracy_score(y_test,pred)"
   ]
  },
  {
   "cell_type": "markdown",
   "id": "645d334c",
   "metadata": {},
   "source": [
    "Dragon fly algorithm"
   ]
  },
  {
   "cell_type": "code",
   "execution_count": null,
   "id": "a6d1b145",
   "metadata": {},
   "outputs": [],
   "source": [
    "from sklearn.svm import SVC"
   ]
  },
  {
   "cell_type": "code",
   "execution_count": null,
   "id": "029fcc39",
   "metadata": {},
   "outputs": [],
   "source": [
    "import numpy as np\n",
    "\n",
    "def dragonfly_algorithm(X, y, fitness_function, num_iterations=100, num_dragonflies=10):\n",
    "  # Initialize the population of dragonflies randomly\n",
    "  dragonflies = np.random.rand(num_dragonflies, X.shape[1])\n",
    "  \n",
    "  for i in range(num_iterations):\n",
    "    # Evaluate the fitness of each dragonfly\n",
    "    fitness_values = fitness_function(dragonflies, X, y)\n",
    "    \n",
    "    # Select the best dragonflies\n",
    "    best_dragonflies = dragonflies[np.argmax(fitness_values)]\n",
    "    \n",
    "    # Update the positions of the other dragonflies\n",
    "    for j in range(num_dragonflies):\n",
    "      if j != np.argmax(fitness_values):\n",
    "        dragonflies[j] = best_dragonflies + np.random.rand() * (dragonflies[j] - best_dragonflies)\n",
    "  \n",
    "  # Return the best dragonfly\n",
    "  return dragonflies[np.argmax(fitness_values)]\n",
    "\n"
   ]
  },
  {
   "cell_type": "code",
   "execution_count": null,
   "id": "1b3f6ed8",
   "metadata": {},
   "outputs": [],
   "source": [
    "from sklearn.preprocessing import StandardScaler\n",
    "scaler = StandardScaler()\n",
    "X_train = scaler.fit_transform(X_train)\n",
    "X_test = scaler.transform(X_test)\n",
    "\n"
   ]
  },
  {
   "cell_type": "code",
   "execution_count": null,
   "id": "2793e9a5",
   "metadata": {},
   "outputs": [],
   "source": [
    "y.shape"
   ]
  },
  {
   "cell_type": "code",
   "execution_count": null,
   "id": "c316d161",
   "metadata": {},
   "outputs": [],
   "source": [
    "# Define the fitness function\n",
    "def fitness_function(X, y, dragonfly):\n",
    "    \"\"\"\n",
    "    This function will be used to evaluate the performance of a dragonfly in the algorithm.\n",
    "    \"\"\"\n",
    "    # Train an SVM classifier using the dragonfly's parameters\n",
    "    clf = SVC(C=1.0, kernel='rbf', degree=3, gamma='scale')\n",
    "    clf.fit(X, y)\n",
    "    \n",
    "    # Make predictions on the test set\n",
    "    y_pred = clf.predict(X_test)\n",
    "    \n",
    "    # Calculate the accuracy of the classifier\n",
    "    accuracy = accuracy_score(y_test, y_pred)\n",
    "    \n",
    "    # Return the accuracy as the fitness score for the dragonfly\n",
    "    return accuracy\n"
   ]
  },
  {
   "cell_type": "code",
   "execution_count": null,
   "id": "63bd7430",
   "metadata": {},
   "outputs": [],
   "source": []
  },
  {
   "cell_type": "code",
   "execution_count": null,
   "id": "8adc04a8",
   "metadata": {},
   "outputs": [],
   "source": [
    "# from sklearn.ensemble import RandomForestClassifier\n",
    "\n",
    "# def fitness_function(model, X, y):\n",
    "    \n",
    "#     y_pred = model.predict(X)\n",
    "#     accuracy = accuracy_score(y, y_pred)\n",
    "#     return accuracy\n",
    "\n",
    "# # Train a random forest classifier\n",
    "# model = RandomForestClassifier()\n",
    "# model.fit(X_train, y_train)\n",
    "\n",
    "# # Use the model to evaluate the fitness function\n",
    "# score = fitness_function(model, X_test, y_test)"
   ]
  },
  {
   "cell_type": "code",
   "execution_count": null,
   "id": "0fa7feea",
   "metadata": {},
   "outputs": [],
   "source": [
    "# Train the model using the Dragonfly Algorithm\n",
    "best_dragonfly = dragonfly_algorithm(X_train, y_train, fitness_function, num_iterations=100, num_dragonflies=10)\n",
    "\n",
    "# Use the best dragonfly to make predictions on the test set\n",
    "predictions = best_dragonfly.predict(X_test)"
   ]
  },
  {
   "cell_type": "code",
   "execution_count": null,
   "id": "06263da8",
   "metadata": {},
   "outputs": [],
   "source": []
  },
  {
   "cell_type": "code",
   "execution_count": null,
   "id": "2ea6ee95",
   "metadata": {},
   "outputs": [],
   "source": [
    "# # Constants\n",
    "# MASS = 1.0  # Mass of each dragonfly (kg)\n",
    "# TIME_STEP = 0.1  # Time step (s)"
   ]
  },
  {
   "cell_type": "code",
   "execution_count": null,
   "id": "a9fe8662",
   "metadata": {},
   "outputs": [],
   "source": [
    "# # Attraction and repulsion forces\n",
    "# def attraction_force(distance):\n",
    "#     return 0.1 * distance  # Linear attraction force"
   ]
  },
  {
   "cell_type": "code",
   "execution_count": null,
   "id": "58e875d8",
   "metadata": {},
   "outputs": [],
   "source": [
    "# def repulsion_force(overlap):\n",
    "#     return 100.0 * overlap  # Quadratic repulsion force"
   ]
  },
  {
   "cell_type": "code",
   "execution_count": null,
   "id": "ecc7809c",
   "metadata": {},
   "outputs": [],
   "source": [
    "# # Initialize positions and velocities\n",
    "# num_dragonflies = 10\n",
    "# positions = np.random.uniform(-1, 1, size=(num_dragonflies, 2))\n",
    "# velocities = np.zeros((num_dragonflies, 2))\n"
   ]
  },
  {
   "cell_type": "code",
   "execution_count": null,
   "id": "77c7155f",
   "metadata": {},
   "outputs": [],
   "source": [
    "# # Loop over time steps\n",
    "# for t in range(100):\n",
    "#     # Calculate attraction and repulsion forces\n",
    "#     attraction_forces = np.zeros((num_dragonflies, 2))\n",
    "#     repulsion_forces = np.zeros((num_dragonflies, 2))\n",
    "#     for i in range(num_dragonflies):\n",
    "#         for j in range(num_dragonflies):\n",
    "#             if i != j:\n",
    "#                 # Calculate distance between dragonflies\n",
    "#                 distance = np.linalg.norm(positions[i] - positions[j])\n",
    "#                 # Calculate overlap between dragonflies\n",
    "#                 overlap = np.maximum(0, 0.5 - distance)\n",
    "#                 # Add attraction force\n",
    "#                 attraction_forces[i] += attraction_force(distance) * (positions[j] - positions[i])\n",
    "#                 # Add repulsion force\n",
    "#                 repulsion_forces[i] += repulsion_force(overlap) * (positions[i] - positions[j])\n",
    "#                 # Update velocities\n",
    "#                 accelerations = (attraction_forces - repulsion_forces) / MASS\n",
    "#                 velocities += accelerations * TIME_STEP\n",
    "#                 # Update positions\n",
    "#                 positions += velocities * TIME_STEP\n"
   ]
  },
  {
   "cell_type": "code",
   "execution_count": null,
   "id": "e6eb8259",
   "metadata": {},
   "outputs": [],
   "source": [
    "# # Use positions and velocities as features for ML classification\n",
    "# features = np.concatenate((positions, velocities), axis=1)\n"
   ]
  },
  {
   "cell_type": "code",
   "execution_count": null,
   "id": "7b35c656",
   "metadata": {},
   "outputs": [],
   "source": [
    "# np.any(np.isnan(features))"
   ]
  },
  {
   "cell_type": "code",
   "execution_count": null,
   "id": "7a4aef87",
   "metadata": {},
   "outputs": [],
   "source": [
    "# np.all(np.isfinite(features))"
   ]
  },
  {
   "cell_type": "code",
   "execution_count": null,
   "id": "ec05f961",
   "metadata": {},
   "outputs": [],
   "source": [
    "# features.dtype"
   ]
  },
  {
   "cell_type": "code",
   "execution_count": null,
   "id": "b8c0f9a0",
   "metadata": {},
   "outputs": [],
   "source": [
    "# # Replace NaN values with 0\n",
    "# features = np.nan_to_num(features)"
   ]
  },
  {
   "cell_type": "code",
   "execution_count": null,
   "id": "38b844a8",
   "metadata": {},
   "outputs": [],
   "source": [
    "# # Train classifier\n",
    "# clf = SVC()\n",
    "# clf.fit(features, y)\n"
   ]
  },
  {
   "cell_type": "code",
   "execution_count": null,
   "id": "c7c87989",
   "metadata": {},
   "outputs": [],
   "source": [
    "# # Train classifier\n",
    "# clf = SVC()\n",
    "# clf.fit(features, y)\n"
   ]
  },
  {
   "cell_type": "code",
   "execution_count": null,
   "id": "65253dad",
   "metadata": {},
   "outputs": [],
   "source": []
  },
  {
   "cell_type": "code",
   "execution_count": null,
   "id": "abab6cbe",
   "metadata": {},
   "outputs": [],
   "source": []
  },
  {
   "cell_type": "code",
   "execution_count": null,
   "id": "1e81a195",
   "metadata": {},
   "outputs": [],
   "source": [
    "from sklearn.metrics import accuracy_score"
   ]
  },
  {
   "cell_type": "code",
   "execution_count": null,
   "id": "748fa1ef",
   "metadata": {},
   "outputs": [],
   "source": [
    "from sklearn.svm import SVC"
   ]
  },
  {
   "cell_type": "code",
   "execution_count": null,
   "id": "6a833607",
   "metadata": {},
   "outputs": [],
   "source": [
    "# # Initialize the Dragonfly algorithm with desired parameters\n",
    "# n_classifiers = 10\n",
    "# classifiers = []\n",
    "# for i in range(n_classifiers):\n",
    "#     classifier = SVC(kernel='rbf', C=1, random_state=42)\n",
    "#     classifiers.append(classifier)\n",
    "\n",
    "# # Train the classifier by iterating over the training set\n",
    "# for classifier in classifiers:\n",
    "#     classifier.fit(X_train, y_train)\n",
    "\n",
    "# # Evaluate the classifier on the validation set\n",
    "# accuracy = 0\n",
    "# for classifier in classifiers:\n",
    "#     accuracy += classifier.score(X_test, y_test)\n",
    "# accuracy /= n_classifiers\n",
    "# print(\"Validation accuracy:\", accuracy)\n",
    "\n",
    "# # Fine-tune the classifier as needed\n",
    "# n_classifiers = 15\n",
    "# classifiers = []\n",
    "# for i in range(n_classifiers):\n",
    "#     classifier = SVC(kernel='rbf', C=1, random_state=42)\n",
    "#     classifiers.append(classifier)\n",
    "\n",
    "# # Train the classifier by iterating over the training set\n",
    "# for classifier in classifiers:\n",
    "#     classifier.fit(X_train, y_train)\n",
    "\n",
    "# # Test the final classifier on the test set\n",
    "\n",
    "# X_test = scaler.transform(X_test)\n",
    "# accuracy = 0\n",
    "# for classifier in classifiers:\n",
    "#     accuracy += classifier.score(X_test, y_test)\n",
    "# accuracy /= n_classifiers\n",
    "# print(\"Test accuracy:\", accuracy)"
   ]
  },
  {
   "cell_type": "code",
   "execution_count": null,
   "id": "4f162462",
   "metadata": {},
   "outputs": [],
   "source": []
  },
  {
   "cell_type": "code",
   "execution_count": null,
   "id": "cf00d9cc",
   "metadata": {},
   "outputs": [],
   "source": [
    "# def dragonfly_algorithm(X_train, y_train, num_iterations, num_dragonflies, alpha, beta, gamma):\n",
    "#     # Initialize the dragonflies\n",
    "#     dragonflies = np.random.rand(num_dragonflies, len(X_train[0]))\n",
    "#     best_solution = None\n",
    "#     best_fitness = float('inf')\n",
    "\n",
    "#     for i in range(num_iterations):\n",
    "#         # Evaluate the fitness of each dragonfly\n",
    "#         fitness = evaluate_fitness(X_train, y_train, dragonflies)\n",
    "\n",
    "#         # Find the best performing dragonfly\n",
    "#         best_index = np.argmin(fitness)\n",
    "#         if fitness[best_index] < best_fitness:\n",
    "#             best_solution = dragonflies[best_index]\n",
    "#             best_fitness = fitness[best_index]\n",
    "\n",
    "#         # Update the position of each dragonfly\n",
    "#         for j in range(num_dragonflies):\n",
    "#             # Calculate the attraction of the current dragonfly to the best dragonfly\n",
    "#             attraction = alpha * np.exp(-beta * np.linalg.norm(best_solution - dragonflies[j]))\n",
    "#             # Calculate the movement of the current dragonfly\n",
    "#             movement = attraction * (best_solution - dragonflies[j]) + gamma * np.random.rand(len(X_train[0]))\n",
    "#             # Update the position of the current dragonfly\n",
    "#             dragonflies[j] += movement\n",
    "\n",
    "#     return best_solution\n",
    "\n"
   ]
  },
  {
   "cell_type": "code",
   "execution_count": null,
   "id": "424eddd4",
   "metadata": {},
   "outputs": [],
   "source": [
    "# def evaluate_fitness(X, y, dragonflies):\n",
    "#     # Calculate the fitness of each dragonfly by training a classifier with the dragonfly's parameters\n",
    "#     # and evaluating its performance on the given dataset\n",
    "#     fitness = []\n",
    "#     for dragonfly in dragonflies:\n",
    "#         classifier = train_classifier(X, y, dragonfly)\n",
    "#         accuracy = evaluate_classifier(classifier, X, y)\n",
    "#         fitness.append(1 - accuracy)\n",
    "#     return fitness"
   ]
  },
  {
   "cell_type": "code",
   "execution_count": null,
   "id": "b0e47619",
   "metadata": {},
   "outputs": [],
   "source": [
    "# def train_classifier(X, y, params):\n",
    "    "
   ]
  },
  {
   "cell_type": "code",
   "execution_count": null,
   "id": "5f9421b0",
   "metadata": {},
   "outputs": [],
   "source": [
    "# params = dragonfly_algorithm(x, y, num_iterations=100, num_dragonflies=50, alpha=1, beta=2, gamma=0.1)"
   ]
  },
  {
   "cell_type": "code",
   "execution_count": null,
   "id": "829b13ae",
   "metadata": {},
   "outputs": [],
   "source": []
  },
  {
   "cell_type": "markdown",
   "id": "bba1966c",
   "metadata": {},
   "source": [
    "SVM"
   ]
  },
  {
   "cell_type": "code",
   "execution_count": null,
   "id": "c1481d99",
   "metadata": {},
   "outputs": [],
   "source": [
    "# #Feature scaling\n",
    "# from sklearn.preprocessing import StandardScaler\n",
    "# sc_X = StandardScaler()\n",
    "# X_train = sc_X.fit_transform(X_train)\n",
    "# X_test = sc_X.fit_transform(X_test)"
   ]
  },
  {
   "cell_type": "code",
   "execution_count": null,
   "id": "624ed89c",
   "metadata": {},
   "outputs": [],
   "source": []
  },
  {
   "cell_type": "code",
   "execution_count": null,
   "id": "e80e5bbf",
   "metadata": {},
   "outputs": [],
   "source": []
  }
 ],
 "metadata": {
  "kernelspec": {
   "display_name": "Python 3 (ipykernel)",
   "language": "python",
   "name": "python3"
  },
  "language_info": {
   "codemirror_mode": {
    "name": "ipython",
    "version": 3
   },
   "file_extension": ".py",
   "mimetype": "text/x-python",
   "name": "python",
   "nbconvert_exporter": "python",
   "pygments_lexer": "ipython3",
   "version": "3.9.12"
  }
 },
 "nbformat": 4,
 "nbformat_minor": 5
}
